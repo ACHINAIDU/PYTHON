{
  "cells": [
    {
      "cell_type": "markdown",
      "id": "f1914e7f",
      "metadata": {
        "id": "f1914e7f"
      },
      "source": [
        "## **Agenda**"
      ]
    },
    {
      "cell_type": "markdown",
      "source": [
        "### What is Tuple?\n",
        "### Different ways of creating Tuples?\n",
        "### How to call Tuple elements?\n",
        "### How to apply different Tuple operations?\n",
        "### What are the built-in functions availble in Tuples?"
      ],
      "metadata": {
        "id": "jq9OxbrQsNSN"
      },
      "id": "jq9OxbrQsNSN"
    },
    {
      "cell_type": "markdown",
      "source": [
        "# **Tuples**"
      ],
      "metadata": {
        "id": "gvgsNN0IsdCu"
      },
      "id": "gvgsNN0IsdCu"
    },
    {
      "cell_type": "markdown",
      "id": "5755fdd8",
      "metadata": {
        "id": "5755fdd8"
      },
      "source": [
        "- Tuples are used to store multiple items in a single variable.\n",
        "\n",
        "- Tuple is one of 4 built-in data types in Python used to store collections of data, the other 3 are List, Set, and Dictionary, all with different qualities and usage.\n",
        "\n",
        "- A tuple is a collection which is ordered and unchangeable.\n",
        "\n",
        "- Tuples are written with round brackets."
      ]
    },
    {
      "cell_type": "markdown",
      "id": "3a5a4956",
      "metadata": {
        "id": "3a5a4956"
      },
      "source": [
        "### Definition:\n",
        "- Collection which can be indexed but immutable\n",
        "- So once we declare the tuple, we can not edit the data\n",
        "- tuple will be declared using `()`"
      ]
    },
    {
      "cell_type": "markdown",
      "id": "b6a5855c",
      "metadata": {
        "id": "b6a5855c"
      },
      "source": [
        "### Tuple declaration"
      ]
    },
    {
      "cell_type": "code",
      "execution_count": null,
      "id": "dd5075d4",
      "metadata": {
        "id": "dd5075d4",
        "outputId": "17371879-20c6-477a-dd01-b7681d94f39e"
      },
      "outputs": [
        {
          "name": "stdout",
          "output_type": "stream",
          "text": [
            "(1, 4, 5)\n",
            "<class 'tuple'>\n"
          ]
        }
      ],
      "source": [
        "a = (1,4,5)\n",
        "print(a)\n",
        "print(type(a))"
      ]
    },
    {
      "cell_type": "code",
      "execution_count": null,
      "id": "8b9aed8c",
      "metadata": {
        "id": "8b9aed8c",
        "outputId": "b353ca2c-dd9b-4846-a843-d2ab317d9f51"
      },
      "outputs": [
        {
          "name": "stdout",
          "output_type": "stream",
          "text": [
            "1\n",
            "<class 'int'>\n"
          ]
        }
      ],
      "source": [
        "a = (1)\n",
        "print(a)\n",
        "print(type(a))"
      ]
    },
    {
      "cell_type": "markdown",
      "id": "a69b5bf1",
      "metadata": {
        "id": "a69b5bf1"
      },
      "source": [
        "### Tuple Items\n",
        "- Tuple items are ordered, unchangeable, and allow duplicate values.\n",
        "\n",
        "- Tuple items are indexed, the first item has index [0], the second item has index [1] etc."
      ]
    },
    {
      "cell_type": "markdown",
      "id": "319869e2",
      "metadata": {
        "id": "319869e2"
      },
      "source": [
        "#### Ordered\n",
        "- When we say that tuples are ordered, it means that the items have a defined order, and that order will not change.\n",
        "\n",
        "#### Unchangeable\n",
        "- Tuples are unchangeable, meaning that we cannot change, add or remove items after the tuple has been created.\n",
        "\n",
        "#### Allow Duplicates\n",
        "- Since tuples are indexed, they can have items with the same value:"
      ]
    },
    {
      "cell_type": "code",
      "execution_count": null,
      "id": "5332eb6a",
      "metadata": {
        "id": "5332eb6a",
        "outputId": "77a7cc4e-a26f-4a25-afbe-046750a031ca"
      },
      "outputs": [
        {
          "name": "stdout",
          "output_type": "stream",
          "text": [
            "('apple', 'banana', 'cherry', 'apple', 'cherry')\n"
          ]
        }
      ],
      "source": [
        "ex = (\"apple\", \"banana\", \"cherry\", \"apple\", \"cherry\") #allows duplicates\n",
        "print(ex)"
      ]
    },
    {
      "cell_type": "markdown",
      "id": "7be99f35",
      "metadata": {
        "id": "7be99f35"
      },
      "source": [
        "### How to add elements in tuple?\n"
      ]
    },
    {
      "cell_type": "code",
      "execution_count": null,
      "id": "e2636244",
      "metadata": {
        "id": "e2636244",
        "outputId": "a0eee66a-048b-48f2-cf40-b34f912c7dfa"
      },
      "outputs": [
        {
          "name": "stdout",
          "output_type": "stream",
          "text": [
            "('a', 'b', 'c', 'd')\n"
          ]
        }
      ],
      "source": [
        "a = (\"a\",\"b\")\n",
        "b = (\"c\",\"d\")\n",
        "\n",
        "t1 = a + b\n",
        "print(t1)"
      ]
    },
    {
      "cell_type": "code",
      "execution_count": null,
      "id": "9375bd6b",
      "metadata": {
        "id": "9375bd6b",
        "outputId": "6a7fd03c-b729-442e-e77a-e4ea6d38db42"
      },
      "outputs": [
        {
          "data": {
            "text/plain": [
              "(1, 2, 3, 4, 5, 600, 8, 9)"
            ]
          },
          "execution_count": 6,
          "metadata": {},
          "output_type": "execute_result"
        }
      ],
      "source": [
        "a = (1,2,3,4,5,6,7,8,9)\n",
        "\n",
        "t1 = a[:5] + (600,) + a[7:]\n",
        "t1"
      ]
    },
    {
      "cell_type": "markdown",
      "id": "adaba2e1",
      "metadata": {
        "id": "adaba2e1"
      },
      "source": [
        "### How to access Tuple Items\n",
        "- we can access tuple items by referring to the index number, inside square brackets:\n",
        "  - Index starts from 0."
      ]
    },
    {
      "cell_type": "code",
      "execution_count": null,
      "id": "7c87eb76",
      "metadata": {
        "id": "7c87eb76",
        "outputId": "57670cad-5b81-4722-cc30-3128ae941b04"
      },
      "outputs": [
        {
          "name": "stdout",
          "output_type": "stream",
          "text": [
            "a\n",
            "b\n",
            "c\n"
          ]
        }
      ],
      "source": [
        "t = (\"a\", \"b\", \"c\")\n",
        "print(t[0])\n",
        "print(t[1])\n",
        "print(t[2])"
      ]
    },
    {
      "cell_type": "markdown",
      "id": "c5e44e59",
      "metadata": {
        "id": "c5e44e59"
      },
      "source": [
        "### Negative Indexing"
      ]
    },
    {
      "cell_type": "code",
      "execution_count": null,
      "id": "8c776a01",
      "metadata": {
        "id": "8c776a01",
        "outputId": "f1e3ee0f-f04b-46c8-dd22-9ccde94fb192"
      },
      "outputs": [
        {
          "name": "stdout",
          "output_type": "stream",
          "text": [
            "c\n"
          ]
        }
      ],
      "source": [
        "t = (\"a\", \"b\", \"c\")\n",
        "print(t[-1])"
      ]
    },
    {
      "cell_type": "markdown",
      "id": "0cd1f162",
      "metadata": {
        "id": "0cd1f162"
      },
      "source": [
        "### Range of Indexes\n",
        "- we can specify a range of indexes by specifying where to start and where to end the range.\n",
        "\n",
        "- When specifying a range, the return value will be a new tuple with the specified items."
      ]
    },
    {
      "cell_type": "code",
      "execution_count": null,
      "id": "50ada4a9",
      "metadata": {
        "id": "50ada4a9",
        "outputId": "9d74b83e-0ab5-42e8-cf5a-d13f49100deb"
      },
      "outputs": [
        {
          "name": "stdout",
          "output_type": "stream",
          "text": [
            "('c', 'd', 'e')\n"
          ]
        }
      ],
      "source": [
        "t = (\"a\", \"b\", \"c\", \"d\", \"e\", \"f\", \"g\")\n",
        "print(t[2:5]) #will start at index 2 (included) and end at index 5 (not included)"
      ]
    },
    {
      "cell_type": "code",
      "execution_count": null,
      "id": "e379e2c0",
      "metadata": {
        "id": "e379e2c0",
        "outputId": "e92d99e7-ae68-4fdf-a899-8e527f83578c"
      },
      "outputs": [
        {
          "name": "stdout",
          "output_type": "stream",
          "text": [
            "('a', 'b', 'c', 'd')\n"
          ]
        }
      ],
      "source": [
        "t = (\"a\", \"b\", \"c\", \"d\", \"e\", \"f\", \"g\")\n",
        "print(t[:4]) #returns the items from the beginning to, but NOT included, \"e\""
      ]
    },
    {
      "cell_type": "code",
      "execution_count": null,
      "id": "a6381f95",
      "metadata": {
        "id": "a6381f95",
        "outputId": "89d3a018-4fb9-4678-e536-21ab70497915"
      },
      "outputs": [
        {
          "name": "stdout",
          "output_type": "stream",
          "text": [
            "('c', 'd', 'e', 'f', 'g')\n"
          ]
        }
      ],
      "source": [
        "t = (\"a\", \"b\", \"c\", \"d\", \"e\", \"f\", \"g\")\n",
        "print(t[2:]) #returns the items from \"c\" and to the end"
      ]
    },
    {
      "cell_type": "markdown",
      "id": "f5b5dbb1",
      "metadata": {
        "id": "f5b5dbb1"
      },
      "source": [
        "### Change Tuple Values\n",
        "- Once a tuple is created, you cannot change its values. Tuples are unchangeable, or immutable as it also is called.\n",
        "\n",
        "- But there is a workaround. We can convert the tuple into a list, change the list, and convert the list back into a tuple."
      ]
    },
    {
      "cell_type": "code",
      "execution_count": null,
      "id": "7f62ea09",
      "metadata": {
        "id": "7f62ea09",
        "outputId": "fa1b9f8b-ef6b-4991-bc95-ec20dc381012"
      },
      "outputs": [
        {
          "name": "stdout",
          "output_type": "stream",
          "text": [
            "('a', 'g', 'c')\n"
          ]
        }
      ],
      "source": [
        "x = (\"a\", \"b\", \"c\")\n",
        "y = list(x)\n",
        "y[1] = \"g\"\n",
        "x = tuple(y)\n",
        "print(x)"
      ]
    },
    {
      "cell_type": "markdown",
      "id": "6fc4df8e",
      "metadata": {
        "id": "6fc4df8e"
      },
      "source": [
        "### Add Items\n",
        "- Since tuples are immutable, they do not have a build-in append() method, but there are other ways to add items to a tuple.\n",
        "##### Method1\n",
        "- Convert into a list: Just like the workaround for changing a tuple, you can convert it into a list, add your item(s), and convert it back into a tuple.\n",
        "\n"
      ]
    },
    {
      "cell_type": "code",
      "execution_count": null,
      "id": "64d836f5",
      "metadata": {
        "id": "64d836f5",
        "outputId": "d143995c-fbc1-462b-cdc6-9c0bbe64ba74"
      },
      "outputs": [
        {
          "data": {
            "text/plain": [
              "('a', 'b', 'c', 'd')"
            ]
          },
          "execution_count": 39,
          "metadata": {},
          "output_type": "execute_result"
        }
      ],
      "source": [
        "t = (\"a\", \"b\", \"c\")\n",
        "y = list(t)\n",
        "y.append(\"d\")\n",
        "t = tuple(y)\n",
        "t"
      ]
    },
    {
      "cell_type": "markdown",
      "id": "753807fd",
      "metadata": {
        "id": "753807fd"
      },
      "source": [
        "##### Method2\n",
        "- Add tuple to a tuple. You are allowed to add tuples to tuples, so if you want to add one item, (or many), create a new tuple with the item(s), and add it to the existing tuple:"
      ]
    },
    {
      "cell_type": "code",
      "execution_count": null,
      "id": "f864dc71",
      "metadata": {
        "id": "f864dc71",
        "outputId": "e79bac82-2656-452b-909a-645907bf265f"
      },
      "outputs": [
        {
          "name": "stdout",
          "output_type": "stream",
          "text": [
            "('a', 'b', 'c', 'd')\n"
          ]
        }
      ],
      "source": [
        "t = (\"a\", \"b\", \"c\")\n",
        "y = (\"d\",)\n",
        "t += y\n",
        "\n",
        "print(t)"
      ]
    },
    {
      "cell_type": "markdown",
      "id": "719f0b0f",
      "metadata": {
        "id": "719f0b0f"
      },
      "source": [
        "### Remove Items"
      ]
    },
    {
      "cell_type": "markdown",
      "id": "ea1d1394",
      "metadata": {
        "id": "ea1d1394"
      },
      "source": [
        "#### You cannot remove items in a tuple directly\n",
        "- you can convert it into a list, remove your item(s), and convert it back into a tuple.\n"
      ]
    },
    {
      "cell_type": "code",
      "execution_count": null,
      "id": "fa54e970",
      "metadata": {
        "id": "fa54e970",
        "outputId": "eec75b52-fb3d-45fe-fc44-ff0f3bec448a"
      },
      "outputs": [
        {
          "data": {
            "text/plain": [
              "('b', 'c')"
            ]
          },
          "execution_count": 2,
          "metadata": {},
          "output_type": "execute_result"
        }
      ],
      "source": [
        "t = (\"a\", \"b\", \"c\")\n",
        "y = list(t)\n",
        "y.remove(\"a\")\n",
        "t = tuple(y)\n",
        "t"
      ]
    },
    {
      "cell_type": "markdown",
      "id": "b88a9a6f",
      "metadata": {
        "id": "b88a9a6f"
      },
      "source": [
        "#### you can delete the tuple completely"
      ]
    },
    {
      "cell_type": "markdown",
      "id": "21ab8781",
      "metadata": {
        "id": "21ab8781"
      },
      "source": [
        "- The del keyword can delete the tuple completely"
      ]
    },
    {
      "cell_type": "code",
      "execution_count": null,
      "id": "50371a9e",
      "metadata": {
        "id": "50371a9e",
        "outputId": "299211f9-e2d0-4ac7-e521-354226e15da2"
      },
      "outputs": [
        {
          "ename": "NameError",
          "evalue": "name 't' is not defined",
          "output_type": "error",
          "traceback": [
            "\u001b[1;31m---------------------------------------------------------------------------\u001b[0m",
            "\u001b[1;31mNameError\u001b[0m                                 Traceback (most recent call last)",
            "Input \u001b[1;32mIn [3]\u001b[0m, in \u001b[0;36m<cell line: 3>\u001b[1;34m()\u001b[0m\n\u001b[0;32m      1\u001b[0m t \u001b[38;5;241m=\u001b[39m (\u001b[38;5;124m\"\u001b[39m\u001b[38;5;124ma\u001b[39m\u001b[38;5;124m\"\u001b[39m, \u001b[38;5;124m\"\u001b[39m\u001b[38;5;124mb\u001b[39m\u001b[38;5;124m\"\u001b[39m, \u001b[38;5;124m\"\u001b[39m\u001b[38;5;124mc\u001b[39m\u001b[38;5;124m\"\u001b[39m)\n\u001b[0;32m      2\u001b[0m \u001b[38;5;28;01mdel\u001b[39;00m t\n\u001b[1;32m----> 3\u001b[0m \u001b[38;5;28mprint\u001b[39m(\u001b[43mt\u001b[49m)\n",
            "\u001b[1;31mNameError\u001b[0m: name 't' is not defined"
          ]
        }
      ],
      "source": [
        "t = (\"a\", \"b\", \"c\")\n",
        "del t\n",
        "print(t) #this will raise an error because the tuple no longer exists"
      ]
    },
    {
      "cell_type": "markdown",
      "id": "7c040aec",
      "metadata": {
        "id": "7c040aec"
      },
      "source": [
        "#### Packing a Tuple\n",
        "- When we create a tuple, we normally assign values to it. This is called \"packing\" a tuple:"
      ]
    },
    {
      "cell_type": "code",
      "execution_count": null,
      "id": "75607241",
      "metadata": {
        "id": "75607241",
        "outputId": "6ac3a5c9-85b9-4b66-be43-8b26a7523591"
      },
      "outputs": [
        {
          "data": {
            "text/plain": [
              "('a', 'b', 'c')"
            ]
          },
          "execution_count": 4,
          "metadata": {},
          "output_type": "execute_result"
        }
      ],
      "source": [
        "#Packing a tuple:\n",
        "\n",
        "t = (\"a\", \"b\", \"c\")\n",
        "t"
      ]
    },
    {
      "cell_type": "markdown",
      "id": "7597879b",
      "metadata": {
        "id": "7597879b"
      },
      "source": [
        "#### UnPacking a Tuple"
      ]
    },
    {
      "cell_type": "markdown",
      "id": "bc5d953e",
      "metadata": {
        "id": "bc5d953e"
      },
      "source": [
        "- We are also allowed to extract the values back into variables. This is called \"unpacking\":"
      ]
    },
    {
      "cell_type": "code",
      "execution_count": null,
      "id": "624a2ec5",
      "metadata": {
        "id": "624a2ec5",
        "outputId": "740295f2-bb04-4ae4-ee48-7d7c1e1eb0d6"
      },
      "outputs": [
        {
          "name": "stdout",
          "output_type": "stream",
          "text": [
            "a\n",
            "b\n",
            "c\n"
          ]
        }
      ],
      "source": [
        "#Unpacking a tuple:\n",
        "\n",
        "t= (\"a\", \"b\", \"c\")\n",
        "\n",
        "(green, yellow, red) = t\n",
        "\n",
        "print(green)\n",
        "print(yellow)\n",
        "print(red)"
      ]
    },
    {
      "cell_type": "markdown",
      "id": "5737c221",
      "metadata": {
        "id": "5737c221"
      },
      "source": [
        "#### Using Asterisk*\n",
        "- If the number of variables is less than the number of values, you can add an * to the variable name and the values will be assigned to the variable as a list"
      ]
    },
    {
      "cell_type": "code",
      "execution_count": null,
      "id": "4371cbe5",
      "metadata": {
        "id": "4371cbe5",
        "outputId": "62661487-c2c5-4c6a-fb55-53d9d4bc002e"
      },
      "outputs": [
        {
          "name": "stdout",
          "output_type": "stream",
          "text": [
            "a\n",
            "b\n",
            "['c', 's', 'r']\n"
          ]
        }
      ],
      "source": [
        "#Assign the rest of the values as a list called \"red\":\n",
        "\n",
        "t = (\"a\", \"b\", \"c\", \"s\", \"r\")\n",
        "\n",
        "(green, yellow, *red) = t\n",
        "\n",
        "print(green)\n",
        "print(yellow)\n",
        "print(red)"
      ]
    },
    {
      "cell_type": "markdown",
      "id": "3d973d7f",
      "metadata": {
        "id": "3d973d7f"
      },
      "source": [
        "- If the asterisk is added to another variable name than the last, Python will assign values to the variable until the number of values left matches the number of variables left."
      ]
    },
    {
      "cell_type": "code",
      "execution_count": null,
      "id": "701518d3",
      "metadata": {
        "id": "701518d3",
        "outputId": "742676e6-f71b-4023-ae8e-25efc684581b"
      },
      "outputs": [
        {
          "name": "stdout",
          "output_type": "stream",
          "text": [
            "['apple', 'mango', 'papaya']\n",
            "pineapple\n",
            "cherry\n"
          ]
        }
      ],
      "source": [
        "#Add a list of values the \"tropic\" variable:\n",
        "\n",
        "fruits = (\"apple\", \"mango\", \"papaya\", \"pineapple\", \"cherry\")\n",
        "\n",
        "(*green, tropic, red) = fruits\n",
        "\n",
        "print(green)\n",
        "print(tropic)\n",
        "print(red)"
      ]
    },
    {
      "cell_type": "markdown",
      "id": "3a872359",
      "metadata": {
        "id": "3a872359"
      },
      "source": [
        "## Loop Through a Tuple"
      ]
    },
    {
      "cell_type": "markdown",
      "id": "237ddbe4",
      "metadata": {
        "id": "237ddbe4"
      },
      "source": [
        "- You can loop through the tuple items by using a for loop."
      ]
    },
    {
      "cell_type": "code",
      "execution_count": null,
      "id": "a105ae6f",
      "metadata": {
        "id": "a105ae6f",
        "outputId": "99183487-0cdb-451c-c2e0-6fb31781cf58"
      },
      "outputs": [
        {
          "name": "stdout",
          "output_type": "stream",
          "text": [
            "a\n",
            "b\n",
            "c\n"
          ]
        }
      ],
      "source": [
        "t = (\"a\", \"b\", \"c\")\n",
        "for x in t:\n",
        "    print(x)"
      ]
    },
    {
      "cell_type": "markdown",
      "id": "6522f9df",
      "metadata": {
        "id": "6522f9df"
      },
      "source": [
        "### Loop Through the Index Numbers\n",
        "\n",
        "- You can also loop through the tuple items by referring to their index number.\n",
        "\n",
        "- Use the range() and len() functions to create a suitable iterable."
      ]
    },
    {
      "cell_type": "code",
      "execution_count": null,
      "id": "396245dc",
      "metadata": {
        "id": "396245dc",
        "outputId": "3661cba7-7c86-4413-cc51-2282b10f5428"
      },
      "outputs": [
        {
          "name": "stdout",
          "output_type": "stream",
          "text": [
            "a\n",
            "b\n",
            "c\n"
          ]
        }
      ],
      "source": [
        "#Print all items by referring to their index number:\n",
        "t = (\"a\", \"b\", \"c\")\n",
        "for i in range(len(t)):\n",
        "    print(t[i])"
      ]
    },
    {
      "cell_type": "markdown",
      "id": "6234a47e",
      "metadata": {
        "id": "6234a47e"
      },
      "source": [
        "### Using a While Loop\n",
        "\n",
        "- You can loop through the list items by using a while loop.\n",
        "\n",
        "- Use the len() function to determine the length of the tuple, then start at 0 and loop your way through the tuple items by refering to their indexes.\n",
        "\n",
        "- Remember to increase the index by 1 after each iteration."
      ]
    },
    {
      "cell_type": "code",
      "execution_count": null,
      "id": "8cb4a575",
      "metadata": {
        "id": "8cb4a575",
        "outputId": "3d97d42b-c329-4248-b6bf-79b3db577b02"
      },
      "outputs": [
        {
          "name": "stdout",
          "output_type": "stream",
          "text": [
            "a\n",
            "b\n",
            "c\n"
          ]
        }
      ],
      "source": [
        "#Print all items, using a while loop to go through all the index numbers:\n",
        "\n",
        "t = (\"a\", \"b\", \"c\")\n",
        "i = 0\n",
        "while i < len(t):\n",
        "    print(t[i])\n",
        "    i = i + 1"
      ]
    },
    {
      "cell_type": "markdown",
      "id": "b4b78e21",
      "metadata": {
        "id": "b4b78e21"
      },
      "source": [
        "### Join Two Tuples\n",
        "- To join two or more tuples you can use the + operator:"
      ]
    },
    {
      "cell_type": "code",
      "execution_count": null,
      "id": "7746de34",
      "metadata": {
        "id": "7746de34",
        "outputId": "2872e6ad-9719-4cbc-d1dd-080a362d07d4"
      },
      "outputs": [
        {
          "name": "stdout",
          "output_type": "stream",
          "text": [
            "('a', 'b', 'c', 1, 2, 3)\n"
          ]
        }
      ],
      "source": [
        "#Join two tuples:\n",
        "\n",
        "t1 = (\"a\", \"b\" , \"c\")\n",
        "t2 = (1, 2, 3)\n",
        "\n",
        "t3 = t1 + t2\n",
        "print(t3)"
      ]
    },
    {
      "cell_type": "markdown",
      "id": "10621424",
      "metadata": {
        "id": "10621424"
      },
      "source": [
        "### Multiply Tuples\n",
        "- If you want to multiply the content of a tuple a given number of times, you can use the * operator:"
      ]
    },
    {
      "cell_type": "code",
      "execution_count": null,
      "id": "f623cf84",
      "metadata": {
        "id": "f623cf84",
        "outputId": "5add2a40-0588-4892-c395-696884ef1b17"
      },
      "outputs": [
        {
          "name": "stdout",
          "output_type": "stream",
          "text": [
            "('a', 'b', 'c', 'a', 'b', 'c')\n"
          ]
        }
      ],
      "source": [
        "#Multiply the fruits tuple by 2:\n",
        "\n",
        "t = (\"a\", \"b\", \"c\")\n",
        "mytuple = t * 2\n",
        "\n",
        "print(mytuple)"
      ]
    },
    {
      "cell_type": "markdown",
      "id": "5e876f55",
      "metadata": {
        "id": "5e876f55"
      },
      "source": [
        "## Tuple Methods"
      ]
    },
    {
      "cell_type": "markdown",
      "id": "171d0611",
      "metadata": {
        "id": "171d0611"
      },
      "source": [
        "- Python has two built-in methods that you can use on tuples."
      ]
    },
    {
      "cell_type": "markdown",
      "id": "4e7fe4bc",
      "metadata": {
        "id": "4e7fe4bc"
      },
      "source": [
        "- **count()** ---> Returns the number of times a specified value occurs in a tuple\n",
        "- **index()** ---> Searches the tuple for a specified value and returns the position of where it was found"
      ]
    },
    {
      "cell_type": "markdown",
      "id": "538ad4ab",
      "metadata": {
        "id": "538ad4ab"
      },
      "source": [
        "#### count()"
      ]
    },
    {
      "cell_type": "code",
      "execution_count": null,
      "id": "1e316d63",
      "metadata": {
        "id": "1e316d63",
        "outputId": "44846784-92a2-4101-f327-46ef65b168d2"
      },
      "outputs": [
        {
          "name": "stdout",
          "output_type": "stream",
          "text": [
            "2\n"
          ]
        }
      ],
      "source": [
        "t = (1, 3, 7, 8, 7, 5, 4, 6, 8, 5)\n",
        "\n",
        "x = t.count(5)\n",
        "\n",
        "print(x)"
      ]
    },
    {
      "cell_type": "markdown",
      "id": "fd5e4024",
      "metadata": {
        "id": "fd5e4024"
      },
      "source": [
        "####   index()"
      ]
    },
    {
      "cell_type": "code",
      "execution_count": null,
      "id": "f6ae8728",
      "metadata": {
        "id": "f6ae8728",
        "outputId": "24c3c78c-bf4d-4ba4-9441-1751edd2091c"
      },
      "outputs": [
        {
          "name": "stdout",
          "output_type": "stream",
          "text": [
            "1\n"
          ]
        }
      ],
      "source": [
        "# tuple containing vowels\n",
        "vowels = ('a', 'e', 'i', 'o', 'u')\n",
        "\n",
        "# index of 'e' in vowels\n",
        "index = vowels.index('e')\n",
        "\n",
        "print(index)"
      ]
    },
    {
      "cell_type": "markdown",
      "id": "1fd249ac",
      "metadata": {
        "id": "1fd249ac"
      },
      "source": [
        "## Built-In Functions"
      ]
    },
    {
      "cell_type": "markdown",
      "id": "6d2e8e4d",
      "metadata": {
        "id": "6d2e8e4d"
      },
      "source": [
        "- len() ---\tReturns length of the tuple or size of the tuple\n",
        "- max()\t--- return maximum element of given tuple\n",
        "- min()\t--- return minimum element of given tuple\n",
        "- sum() ---\tSums up the numbers in the tuple\n",
        "- sorted() ---\tinput elements in the tuple and return a new sorted list\n",
        "- tuple() ---\tConvert an iterable to a tuple."
      ]
    },
    {
      "cell_type": "code",
      "execution_count": null,
      "id": "f85079ba",
      "metadata": {
        "id": "f85079ba",
        "outputId": "e7b847b5-f795-49ab-e6f9-565926bf1000"
      },
      "outputs": [
        {
          "name": "stdout",
          "output_type": "stream",
          "text": [
            "3\n"
          ]
        }
      ],
      "source": [
        "tup = (1,2,3)\n",
        "print(len(tup))"
      ]
    },
    {
      "cell_type": "code",
      "execution_count": null,
      "id": "989f254a",
      "metadata": {
        "id": "989f254a",
        "outputId": "640a3e09-67bd-4708-8cb9-ec7d9e793ec6"
      },
      "outputs": [
        {
          "data": {
            "text/plain": [
              "700"
            ]
          },
          "execution_count": 16,
          "metadata": {},
          "output_type": "execute_result"
        }
      ],
      "source": [
        "t=(456, 700, 200)\n",
        "max(t)"
      ]
    },
    {
      "cell_type": "code",
      "execution_count": null,
      "id": "6379094e",
      "metadata": {
        "id": "6379094e",
        "outputId": "69ea5e0f-f70d-4c38-a325-c2de7f377b51"
      },
      "outputs": [
        {
          "data": {
            "text/plain": [
              "200"
            ]
          },
          "execution_count": 17,
          "metadata": {},
          "output_type": "execute_result"
        }
      ],
      "source": [
        "t=(456, 700, 200)\n",
        "min(t)"
      ]
    },
    {
      "cell_type": "code",
      "execution_count": null,
      "id": "2126fb7e",
      "metadata": {
        "id": "2126fb7e",
        "outputId": "ce63e764-c919-47da-b99a-c0b87c011c34"
      },
      "outputs": [
        {
          "data": {
            "text/plain": [
              "1356"
            ]
          },
          "execution_count": 18,
          "metadata": {},
          "output_type": "execute_result"
        }
      ],
      "source": [
        "t=(456, 700, 200)\n",
        "sum(t)"
      ]
    },
    {
      "cell_type": "code",
      "execution_count": null,
      "id": "53c67344",
      "metadata": {
        "id": "53c67344",
        "outputId": "2ae9248e-85e1-445f-a751-845e0c61beba"
      },
      "outputs": [
        {
          "data": {
            "text/plain": [
              "[200, 456, 700]"
            ]
          },
          "execution_count": 19,
          "metadata": {},
          "output_type": "execute_result"
        }
      ],
      "source": [
        "t=(456, 700, 200)\n",
        "sorted(t)"
      ]
    },
    {
      "cell_type": "code",
      "execution_count": null,
      "id": "5b3ca720",
      "metadata": {
        "id": "5b3ca720"
      },
      "outputs": [],
      "source": []
    },
    {
      "cell_type": "markdown",
      "id": "056016a9",
      "metadata": {
        "id": "056016a9"
      },
      "source": [
        "### Tuple inside a list"
      ]
    },
    {
      "cell_type": "code",
      "execution_count": null,
      "id": "e733d21c",
      "metadata": {
        "id": "e733d21c",
        "outputId": "8118bcb2-1a5b-4d5a-e7f7-d5f45f3ee715"
      },
      "outputs": [
        {
          "data": {
            "text/plain": [
              "('Sara', 45)"
            ]
          },
          "execution_count": 8,
          "metadata": {},
          "output_type": "execute_result"
        }
      ],
      "source": [
        "a = [(\"Sara\",45),(\"Milan\",15)]\n",
        "a[0]"
      ]
    },
    {
      "cell_type": "code",
      "execution_count": null,
      "id": "53209e01",
      "metadata": {
        "id": "53209e01",
        "outputId": "57498b9e-4e3e-4635-ab0e-90a362ba3f18"
      },
      "outputs": [
        {
          "data": {
            "text/plain": [
              "'Sara'"
            ]
          },
          "execution_count": 9,
          "metadata": {},
          "output_type": "execute_result"
        }
      ],
      "source": [
        "a[0][0]"
      ]
    },
    {
      "cell_type": "code",
      "execution_count": null,
      "id": "005a977c",
      "metadata": {
        "id": "005a977c",
        "outputId": "641c207a-7d51-439a-a7fa-202e06df89b2"
      },
      "outputs": [
        {
          "data": {
            "text/plain": [
              "[(1, 'sandhya', 'data science', ['python', 'C']),\n",
              " (2, 'abhilash', 'data science', ['python', 'java']),\n",
              " (3, 'ram', 'data science', ['C', 'C++'])]"
            ]
          },
          "execution_count": 10,
          "metadata": {},
          "output_type": "execute_result"
        }
      ],
      "source": [
        "students = [\n",
        "    (1, \"sandhya\", \"data science\", [\"python\",\"C\"]),\n",
        "    (2, \"abhilash\", \"data science\", [\"python\",\"java\"]),\n",
        "    (3, \"ram\", \"data science\", [\"C\",\"C++\"])\n",
        "]\n",
        "students"
      ]
    },
    {
      "cell_type": "markdown",
      "id": "173e2f53",
      "metadata": {
        "id": "173e2f53"
      },
      "source": [
        "### packing and unpacking"
      ]
    },
    {
      "cell_type": "code",
      "execution_count": null,
      "id": "ce953d65",
      "metadata": {
        "id": "ce953d65",
        "outputId": "9a5bc8e9-5de1-45f9-8242-2adc1f828827"
      },
      "outputs": [
        {
          "name": "stdout",
          "output_type": "stream",
          "text": [
            "(10, 20)\n"
          ]
        }
      ],
      "source": [
        "a = 10\n",
        "b = 20\n",
        "\n",
        "t1 = (a, b)\n",
        "print(t1)"
      ]
    },
    {
      "cell_type": "code",
      "execution_count": null,
      "id": "dff0a9b8",
      "metadata": {
        "id": "dff0a9b8",
        "outputId": "e66924e3-44f8-4133-e5d5-24bf7840e0d8"
      },
      "outputs": [
        {
          "name": "stdout",
          "output_type": "stream",
          "text": [
            "10\n",
            "20\n"
          ]
        }
      ],
      "source": [
        "x, y = t1\n",
        "print(x)\n",
        "print(y)"
      ]
    },
    {
      "cell_type": "code",
      "execution_count": null,
      "id": "91fb50d3",
      "metadata": {
        "id": "91fb50d3",
        "outputId": "6ccf50ea-b097-42d4-8cb8-a68c46c19678"
      },
      "outputs": [
        {
          "name": "stdout",
          "output_type": "stream",
          "text": [
            "3\n",
            "79\n",
            "11\n",
            "45\n"
          ]
        }
      ],
      "source": [
        "a = (11,23,45)\n",
        "print(len(a))\n",
        "print(sum(a))\n",
        "print(min(a))\n",
        "print(max(a))"
      ]
    },
    {
      "cell_type": "markdown",
      "id": "b3a36af0",
      "metadata": {
        "id": "b3a36af0"
      },
      "source": [
        "## Tuple indexing\n",
        "- we can apply all the list indexing steps on the tuples"
      ]
    },
    {
      "cell_type": "code",
      "execution_count": null,
      "id": "f5b0f2fb",
      "metadata": {
        "id": "f5b0f2fb",
        "outputId": "9d667b00-f3c6-4ff1-adbe-d2438f3ea73c"
      },
      "outputs": [
        {
          "data": {
            "text/plain": [
              "(5, 10000, 4, 4, 3, 3, 3, 2, 2, 1, 1, 1)"
            ]
          },
          "execution_count": 14,
          "metadata": {},
          "output_type": "execute_result"
        }
      ],
      "source": [
        "li = (5, 10000, 4, 4, 3, 3, 3, 2, 2, 1, 1, 1)\n",
        "li"
      ]
    },
    {
      "cell_type": "code",
      "execution_count": null,
      "id": "b36606ab",
      "metadata": {
        "id": "b36606ab",
        "outputId": "163e9ad1-2528-443c-8939-dc5d1e6099f7"
      },
      "outputs": [
        {
          "data": {
            "text/plain": [
              "5"
            ]
          },
          "execution_count": 15,
          "metadata": {},
          "output_type": "execute_result"
        }
      ],
      "source": [
        "li[0]"
      ]
    },
    {
      "cell_type": "code",
      "execution_count": null,
      "id": "dc01ed28",
      "metadata": {
        "id": "dc01ed28",
        "outputId": "4b6d99c2-ad90-4f04-ea3e-adddafc28337"
      },
      "outputs": [
        {
          "data": {
            "text/plain": [
              "(5, 10000, 4, 4, 3, 3, 3, 2, 2, 1, 1, 1)"
            ]
          },
          "execution_count": 16,
          "metadata": {},
          "output_type": "execute_result"
        }
      ],
      "source": [
        "li[:]"
      ]
    },
    {
      "cell_type": "code",
      "execution_count": null,
      "id": "4a81f5af",
      "metadata": {
        "id": "4a81f5af",
        "outputId": "387f32a5-3676-4e88-be27-59bae8ef2834"
      },
      "outputs": [
        {
          "data": {
            "text/plain": [
              "(5, 10000, 4, 4, 3, 3, 3, 2, 2, 1, 1, 1)"
            ]
          },
          "execution_count": 17,
          "metadata": {},
          "output_type": "execute_result"
        }
      ],
      "source": [
        "li[0:]"
      ]
    },
    {
      "cell_type": "code",
      "execution_count": null,
      "id": "23752ab8",
      "metadata": {
        "id": "23752ab8",
        "outputId": "b0e0c129-e77f-478a-8ec8-d280ec5cbc88"
      },
      "outputs": [
        {
          "data": {
            "text/plain": [
              "(5, 10000, 4, 4, 3, 3, 3, 2, 2, 1, 1)"
            ]
          },
          "execution_count": 18,
          "metadata": {},
          "output_type": "execute_result"
        }
      ],
      "source": [
        "li[:-1]"
      ]
    },
    {
      "cell_type": "markdown",
      "id": "4e0fbdfd",
      "metadata": {
        "id": "4e0fbdfd"
      },
      "source": [
        "#### ::-1 will reverse a tuple"
      ]
    },
    {
      "cell_type": "code",
      "execution_count": null,
      "id": "5681118f",
      "metadata": {
        "id": "5681118f",
        "outputId": "61f91505-19a9-4e66-b183-ca69ccbe42e3"
      },
      "outputs": [
        {
          "data": {
            "text/plain": [
              "(1, 1, 1, 2, 2, 3, 3, 3, 4, 4, 10000, 5)"
            ]
          },
          "execution_count": 19,
          "metadata": {},
          "output_type": "execute_result"
        }
      ],
      "source": [
        "li[::-1]"
      ]
    },
    {
      "cell_type": "code",
      "execution_count": null,
      "id": "83a2ce70",
      "metadata": {
        "id": "83a2ce70"
      },
      "outputs": [],
      "source": []
    }
  ],
  "metadata": {
    "kernelspec": {
      "display_name": "Python 3 (ipykernel)",
      "language": "python",
      "name": "python3"
    },
    "language_info": {
      "codemirror_mode": {
        "name": "ipython",
        "version": 3
      },
      "file_extension": ".py",
      "mimetype": "text/x-python",
      "name": "python",
      "nbconvert_exporter": "python",
      "pygments_lexer": "ipython3",
      "version": "3.9.12"
    },
    "colab": {
      "provenance": []
    }
  },
  "nbformat": 4,
  "nbformat_minor": 5
}